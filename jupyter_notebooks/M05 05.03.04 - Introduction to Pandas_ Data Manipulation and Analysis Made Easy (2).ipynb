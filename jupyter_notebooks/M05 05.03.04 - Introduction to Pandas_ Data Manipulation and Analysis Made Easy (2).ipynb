{
 "cells": [
  {
   "cell_type": "markdown",
   "id": "450b6280",
   "metadata": {},
   "source": [
    "# Introduction to Pandas: Data Manipulation and Analysis Made Easy\n",
    "\n",
    "## Introduction\n",
    "\n",
    "**Pandas** is one of the most powerful and widely used Python libraries for data analysis and manipulation. It provides data structures like **DataFrames** and **Series**, which make it easy to handle structured data such as CSV, Excel, and SQL databases. In this topic, we'll explore the core functionality of Pandas for data analysis, including data loading, exploration, manipulation, and basic statistical analysis.\n",
    "\n",
    "<b><i>Note:</b></i> Before starting, it is important to review the data and the columns available in the provided sales dataset. This initial exploration will give you a better understanding of the dataset's structure and contents, which is crucial before performing any data manipulation or analysis.\n",
    " \n"
   ]
  },
  {
   "cell_type": "markdown",
   "id": "7aa6e909",
   "metadata": {},
   "source": [
    "## 1. Installing Pandas\n",
    "If you don’t have Pandas installed, open the Anaconda Command Prompt.\n",
    "\n",
    "Type `pip install pandas` and press enter."
   ]
  },
  {
   "cell_type": "markdown",
   "id": "1e684dc2",
   "metadata": {},
   "source": [
    "Once installed, you can import Pandas into your Python environment like this:"
   ]
  },
  {
   "cell_type": "code",
   "execution_count": 44,
   "id": "88705132",
   "metadata": {},
   "outputs": [],
   "source": [
    "import pandas as pd"
   ]
  },
  {
   "cell_type": "markdown",
   "id": "eae20616",
   "metadata": {},
   "source": [
    "## 2. Creating a DataFrame"
   ]
  },
  {
   "cell_type": "markdown",
   "id": "8bff4dbd",
   "metadata": {},
   "source": [
    "A DataFrame is a 2-dimensional labeled data structure with columns of potentially different types (like a table in a database or a spreadsheet such as Excel or Google Sheets). The most common way to create a DataFrame is by using a Python dictionary, where the keys represent column names and the values are lists containing the data for each column."
   ]
  },
  {
   "cell_type": "code",
   "execution_count": 45,
   "id": "2e2c29fa",
   "metadata": {},
   "outputs": [
    {
     "data": {
      "text/html": [
       "<div>\n",
       "<style scoped>\n",
       "    .dataframe tbody tr th:only-of-type {\n",
       "        vertical-align: middle;\n",
       "    }\n",
       "\n",
       "    .dataframe tbody tr th {\n",
       "        vertical-align: top;\n",
       "    }\n",
       "\n",
       "    .dataframe thead th {\n",
       "        text-align: right;\n",
       "    }\n",
       "</style>\n",
       "<table border=\"1\" class=\"dataframe\">\n",
       "  <thead>\n",
       "    <tr style=\"text-align: right;\">\n",
       "      <th></th>\n",
       "      <th>Name</th>\n",
       "      <th>Age</th>\n",
       "      <th>Occupation</th>\n",
       "    </tr>\n",
       "  </thead>\n",
       "  <tbody>\n",
       "    <tr>\n",
       "      <th>0</th>\n",
       "      <td>Ali</td>\n",
       "      <td>25</td>\n",
       "      <td>Data Analyst</td>\n",
       "    </tr>\n",
       "    <tr>\n",
       "      <th>1</th>\n",
       "      <td>Bob</td>\n",
       "      <td>30</td>\n",
       "      <td>Data Scientist</td>\n",
       "    </tr>\n",
       "    <tr>\n",
       "      <th>2</th>\n",
       "      <td>Charlie</td>\n",
       "      <td>35</td>\n",
       "      <td>Data Engineer</td>\n",
       "    </tr>\n",
       "  </tbody>\n",
       "</table>\n",
       "</div>"
      ],
      "text/plain": [
       "      Name  Age      Occupation\n",
       "0      Ali   25    Data Analyst\n",
       "1      Bob   30  Data Scientist\n",
       "2  Charlie   35   Data Engineer"
      ]
     },
     "execution_count": 45,
     "metadata": {},
     "output_type": "execute_result"
    }
   ],
   "source": [
    "# Creating a dictionary of data\n",
    "data = {\n",
    "    'Name': ['Ali', 'Bob', 'Charlie'],\n",
    "    'Age': [25, 30, 35],\n",
    "    'Occupation': ['Data Analyst', 'Data Scientist', 'Data Engineer']\n",
    "}\n",
    "\n",
    "# Creating the DataFrame\n",
    "dataframe = pd.DataFrame(data)\n",
    "\n",
    "# Displaying the DataFrame\n",
    "dataframe\n"
   ]
  },
  {
   "cell_type": "markdown",
   "id": "91272671",
   "metadata": {},
   "source": [
    "### Try it Yourself: Creating a DataFrame\n",
    "Create a DataFrame called \"<b>Quarter_Sales</b>\" that stores the following business data:\n",
    "- `Salesperson`: Daniel, Richard, Chen, Shahrukh \n",
    "- `Region`: North, South, East, West\n",
    "- `Q1 Sales`: 12000, 10000, 15000, 13000"
   ]
  },
  {
   "cell_type": "code",
   "execution_count": 46,
   "id": "8b1be3bd",
   "metadata": {},
   "outputs": [],
   "source": [
    "#Write your answer here... "
   ]
  },
  {
   "cell_type": "markdown",
   "id": "57261d8b",
   "metadata": {},
   "source": [
    "## 3. Loading Data from a CSV File\n",
    "Pandas can load data from various file formats such as CSV, Excel, and SQL. The most common format is CSV, and the function to read CSV files is `pd.read_csv(file_path)`."
   ]
  },
  {
   "cell_type": "code",
   "execution_count": 47,
   "id": "979a5724",
   "metadata": {
    "scrolled": true
   },
   "outputs": [
    {
     "name": "stdout",
     "output_type": "stream",
     "text": [
      "   Product_ID Product_Name  Sales  Profit Region\n",
      "0         101       Laptop   1200     200  North\n",
      "1         102   Smartphone    800     100  South\n",
      "2         103       Tablet   1500     250   East\n",
      "3         104   Headphones    300      50   West\n",
      "4         105       Camera    700      80  North\n",
      "5         106      Monitor    500      60  South\n",
      "6         107     Keyboard    400      40   West\n",
      "7         108        Mouse    600      70  North\n",
      "8         109      Charger    450      55   East\n",
      "9         110       Router    850     110  South\n"
     ]
    }
   ],
   "source": [
    "# Load a CSV file\n",
    "df = pd.read_csv(\"C:/Users/Admin/Desktop/Datapre8/Code Institute/Module  - Getting Started with Python Programming/Sales_Data.csv\")\n",
    "#Change the path to your file and ensure that you use forward slash '/' in the file path instead of the default backward slash '\\'\n",
    "\n",
    "# Print the Dataset\n",
    "print(df)\n"
   ]
  },
  {
   "cell_type": "markdown",
   "id": "054a851a",
   "metadata": {},
   "source": [
    "#### Explanation:\n",
    "- `pd.read_csv()`: Reads a CSV file into a Pandas DataFrame.\n",
    "- `df.head()`: Displays the first 5 rows of the DataFrame to give a quick overview of the data."
   ]
  },
  {
   "cell_type": "markdown",
   "id": "aafe88a1",
   "metadata": {},
   "source": [
    "## 4. Exploring the Data\n",
    "\n",
    "Once the data is loaded into a Pandas DataFrame, it is essential to explore its structure and contents to understand the dataset better. Pandas offers several useful methods for exploring the data.\n",
    "\n",
    "### a) Viewing the First Few Rows\n",
    "\n",
    "You can use the `head()` method to view the first few rows of the DataFrame, which provides a quick preview of the data.\n",
    "\n",
    "```python\n",
    "# Display the first 5 rows of the DataFrame\n",
    "print(df.head())\n"
   ]
  },
  {
   "cell_type": "code",
   "execution_count": 48,
   "id": "25af8274",
   "metadata": {},
   "outputs": [
    {
     "name": "stdout",
     "output_type": "stream",
     "text": [
      "   Product_ID Product_Name  Sales  Profit Region\n",
      "0         101       Laptop   1200     200  North\n",
      "1         102   Smartphone    800     100  South\n",
      "2         103       Tablet   1500     250   East\n",
      "3         104   Headphones    300      50   West\n",
      "4         105       Camera    700      80  North\n"
     ]
    }
   ],
   "source": [
    "print(df.head())"
   ]
  },
  {
   "cell_type": "markdown",
   "id": "121a10b4",
   "metadata": {},
   "source": [
    "### b) Shape of the Data\n",
    "The `df.shape` attribute provides the number of rows and columns in the DataFrame.\n",
    "\n"
   ]
  },
  {
   "cell_type": "code",
   "execution_count": 49,
   "id": "67d5fda8",
   "metadata": {},
   "outputs": [
    {
     "name": "stdout",
     "output_type": "stream",
     "text": [
      "(10, 5)\n"
     ]
    }
   ],
   "source": [
    "# Check the shape of the DataFrame (rows, columns)\n",
    "print(df.shape)"
   ]
  },
  {
   "cell_type": "markdown",
   "id": "cafc9e86",
   "metadata": {},
   "source": [
    "### c) Getting Information about the DataFrame\n",
    "The `info()` method gives a summary of the DataFrame, including the column names, data types, and the number of non-null values in each column."
   ]
  },
  {
   "cell_type": "code",
   "execution_count": 50,
   "id": "b62f700c",
   "metadata": {},
   "outputs": [
    {
     "name": "stdout",
     "output_type": "stream",
     "text": [
      "<class 'pandas.core.frame.DataFrame'>\n",
      "RangeIndex: 10 entries, 0 to 9\n",
      "Data columns (total 5 columns):\n",
      " #   Column        Non-Null Count  Dtype \n",
      "---  ------        --------------  ----- \n",
      " 0   Product_ID    10 non-null     int64 \n",
      " 1   Product_Name  10 non-null     object\n",
      " 2   Sales         10 non-null     int64 \n",
      " 3   Profit        10 non-null     int64 \n",
      " 4   Region        10 non-null     object\n",
      "dtypes: int64(3), object(2)\n",
      "memory usage: 528.0+ bytes\n",
      "None\n"
     ]
    }
   ],
   "source": [
    "# Get a summary of the DataFrame's structure\n",
    "print(df.info())"
   ]
  },
  {
   "cell_type": "markdown",
   "id": "9624af28",
   "metadata": {},
   "source": [
    "### d) Descriptive Statistics\n",
    "The `describe()` method generates descriptive statistics for numerical columns, such as the mean, standard deviation, minimum, and maximum values."
   ]
  },
  {
   "cell_type": "code",
   "execution_count": 51,
   "id": "ea035dcc",
   "metadata": {},
   "outputs": [
    {
     "name": "stdout",
     "output_type": "stream",
     "text": [
      "       Product_ID      Sales      Profit\n",
      "count    10.00000    10.0000   10.000000\n",
      "mean    105.50000   730.0000  101.500000\n",
      "std       3.02765   376.5339   69.604039\n",
      "min     101.00000   300.0000   40.000000\n",
      "25%     103.25000   462.5000   56.250000\n",
      "50%     105.50000   650.0000   75.000000\n",
      "75%     107.75000   837.5000  107.500000\n",
      "max     110.00000  1500.0000  250.000000\n"
     ]
    }
   ],
   "source": [
    "# View statistical summary of numerical columns\n",
    "print(df.describe())"
   ]
  },
  {
   "cell_type": "markdown",
   "id": "30bcfc96",
   "metadata": {},
   "source": [
    "## 5. Selecting Data\n",
    "You can select specific columns, rows, or subsets of data from the DataFrame using labels or positions."
   ]
  },
  {
   "cell_type": "markdown",
   "id": "efb60841",
   "metadata": {},
   "source": [
    "### a) Selecting Single Column"
   ]
  },
  {
   "cell_type": "code",
   "execution_count": 52,
   "id": "d806c5ed",
   "metadata": {},
   "outputs": [
    {
     "data": {
      "text/plain": [
       "0    1200\n",
       "1     800\n",
       "2    1500\n",
       "3     300\n",
       "4     700\n",
       "5     500\n",
       "6     400\n",
       "7     600\n",
       "8     450\n",
       "9     850\n",
       "Name: Sales, dtype: int64"
      ]
     },
     "execution_count": 52,
     "metadata": {},
     "output_type": "execute_result"
    }
   ],
   "source": [
    "# Select a single column\n",
    "df['Sales']"
   ]
  },
  {
   "cell_type": "markdown",
   "id": "68db68c3",
   "metadata": {},
   "source": [
    "#### Explanation:\n",
    "- df['Sales']: Selects the \"Sales\" column."
   ]
  },
  {
   "cell_type": "markdown",
   "id": "b9bd2400",
   "metadata": {},
   "source": [
    "### Try it Yourself: Selecting Single Column\n",
    "- Select the column 'Product_Name'."
   ]
  },
  {
   "cell_type": "code",
   "execution_count": 53,
   "id": "cf2236b9",
   "metadata": {},
   "outputs": [],
   "source": [
    "#Write your answer here..."
   ]
  },
  {
   "cell_type": "markdown",
   "id": "7f45d6ac",
   "metadata": {},
   "source": [
    "### b) Selecting Multiple Columns"
   ]
  },
  {
   "cell_type": "code",
   "execution_count": 54,
   "id": "b4f42e1f",
   "metadata": {},
   "outputs": [
    {
     "data": {
      "text/html": [
       "<div>\n",
       "<style scoped>\n",
       "    .dataframe tbody tr th:only-of-type {\n",
       "        vertical-align: middle;\n",
       "    }\n",
       "\n",
       "    .dataframe tbody tr th {\n",
       "        vertical-align: top;\n",
       "    }\n",
       "\n",
       "    .dataframe thead th {\n",
       "        text-align: right;\n",
       "    }\n",
       "</style>\n",
       "<table border=\"1\" class=\"dataframe\">\n",
       "  <thead>\n",
       "    <tr style=\"text-align: right;\">\n",
       "      <th></th>\n",
       "      <th>Sales</th>\n",
       "      <th>Profit</th>\n",
       "    </tr>\n",
       "  </thead>\n",
       "  <tbody>\n",
       "    <tr>\n",
       "      <th>0</th>\n",
       "      <td>1200</td>\n",
       "      <td>200</td>\n",
       "    </tr>\n",
       "    <tr>\n",
       "      <th>1</th>\n",
       "      <td>800</td>\n",
       "      <td>100</td>\n",
       "    </tr>\n",
       "    <tr>\n",
       "      <th>2</th>\n",
       "      <td>1500</td>\n",
       "      <td>250</td>\n",
       "    </tr>\n",
       "    <tr>\n",
       "      <th>3</th>\n",
       "      <td>300</td>\n",
       "      <td>50</td>\n",
       "    </tr>\n",
       "    <tr>\n",
       "      <th>4</th>\n",
       "      <td>700</td>\n",
       "      <td>80</td>\n",
       "    </tr>\n",
       "    <tr>\n",
       "      <th>5</th>\n",
       "      <td>500</td>\n",
       "      <td>60</td>\n",
       "    </tr>\n",
       "    <tr>\n",
       "      <th>6</th>\n",
       "      <td>400</td>\n",
       "      <td>40</td>\n",
       "    </tr>\n",
       "    <tr>\n",
       "      <th>7</th>\n",
       "      <td>600</td>\n",
       "      <td>70</td>\n",
       "    </tr>\n",
       "    <tr>\n",
       "      <th>8</th>\n",
       "      <td>450</td>\n",
       "      <td>55</td>\n",
       "    </tr>\n",
       "    <tr>\n",
       "      <th>9</th>\n",
       "      <td>850</td>\n",
       "      <td>110</td>\n",
       "    </tr>\n",
       "  </tbody>\n",
       "</table>\n",
       "</div>"
      ],
      "text/plain": [
       "   Sales  Profit\n",
       "0   1200     200\n",
       "1    800     100\n",
       "2   1500     250\n",
       "3    300      50\n",
       "4    700      80\n",
       "5    500      60\n",
       "6    400      40\n",
       "7    600      70\n",
       "8    450      55\n",
       "9    850     110"
      ]
     },
     "execution_count": 54,
     "metadata": {},
     "output_type": "execute_result"
    }
   ],
   "source": [
    "# Select multiple columns\n",
    "df[['Sales', 'Profit']]"
   ]
  },
  {
   "cell_type": "markdown",
   "id": "e70b656e",
   "metadata": {},
   "source": [
    "#### Explanation:\n",
    "- df['Sales','Profit']: Selects multiple columns."
   ]
  },
  {
   "cell_type": "markdown",
   "id": "463302b2",
   "metadata": {},
   "source": [
    "### Try it Yourself: Selecting Multiple Columns\n",
    "- Select the columns 'Sales' and 'Region'."
   ]
  },
  {
   "cell_type": "code",
   "execution_count": 55,
   "id": "8e7436d6",
   "metadata": {},
   "outputs": [],
   "source": [
    "#Write your answer here..."
   ]
  },
  {
   "cell_type": "markdown",
   "id": "5b35ad08",
   "metadata": {},
   "source": [
    "### c) Selecting Rows Using .loc[] and .iloc[]\n",
    "- `.loc[]`: Select rows and columns by labels.\n",
    "- `.iloc[]`: Select rows and columns by integer positions."
   ]
  },
  {
   "cell_type": "markdown",
   "id": "eafffaa0",
   "metadata": {},
   "source": [
    "### Selecting Rows using `.loc[]`"
   ]
  },
  {
   "cell_type": "code",
   "execution_count": 56,
   "id": "77ef64bc",
   "metadata": {},
   "outputs": [
    {
     "name": "stdout",
     "output_type": "stream",
     "text": [
      "Product_ID         103\n",
      "Product_Name    Tablet\n",
      "Sales             1500\n",
      "Profit             250\n",
      "Region            East\n",
      "Name: 2, dtype: object\n"
     ]
    }
   ],
   "source": [
    "# Select rows by index label (e.g., row with index 2)\n",
    "row = df.loc[2]\n",
    "print(row)"
   ]
  },
  {
   "cell_type": "markdown",
   "id": "67b9278a",
   "metadata": {},
   "source": [
    "#### Explanation:\n",
    "- df.loc[]: Accesses rows/columns by labels (index and column names)."
   ]
  },
  {
   "cell_type": "markdown",
   "id": "78db55bb",
   "metadata": {},
   "source": [
    "### Try it Yourself: Selecting Rows using .loc[]\n",
    "- select the row with index 4"
   ]
  },
  {
   "cell_type": "code",
   "execution_count": 57,
   "id": "3d937aa8",
   "metadata": {},
   "outputs": [],
   "source": [
    "#Write your answer here... \n"
   ]
  },
  {
   "cell_type": "markdown",
   "id": "123b2a03",
   "metadata": {},
   "source": [
    "### Selecting Rows using `.iloc[]`"
   ]
  },
  {
   "cell_type": "code",
   "execution_count": 58,
   "id": "ea037a7d",
   "metadata": {},
   "outputs": [
    {
     "name": "stdout",
     "output_type": "stream",
     "text": [
      "   Product_ID Product_Name  Sales  Profit Region\n",
      "0         101       Laptop   1200     200  North\n",
      "1         102   Smartphone    800     100  South\n",
      "2         103       Tablet   1500     250   East\n"
     ]
    }
   ],
   "source": [
    "# Select rows by position (e.g., first three rows)\n",
    "subset_rows = df.iloc[:3]\n",
    "print(subset_rows)"
   ]
  },
  {
   "cell_type": "markdown",
   "id": "3ef800a0",
   "metadata": {},
   "source": [
    "#### Explanation:\n",
    "- df.iloc[]: Accesses rows/columns by integer position (index numbers)."
   ]
  },
  {
   "cell_type": "markdown",
   "id": "2c1f3a50",
   "metadata": {},
   "source": [
    "### Try it Yourself: Selecting Rows using .iloc[]\n",
    "- select the first 6 rows"
   ]
  },
  {
   "cell_type": "code",
   "execution_count": 59,
   "id": "0461e889",
   "metadata": {},
   "outputs": [],
   "source": [
    "#Write your answer here...\n"
   ]
  },
  {
   "cell_type": "markdown",
   "id": "c5ad39e6",
   "metadata": {},
   "source": [
    "## 6. Data Filtering and Conditional Selection\n",
    "You can filter the data based on conditions using boolean indexing."
   ]
  },
  {
   "cell_type": "markdown",
   "id": "81d13e3b",
   "metadata": {},
   "source": [
    "### a) Filtering Using Comparison Operator"
   ]
  },
  {
   "cell_type": "code",
   "execution_count": 60,
   "id": "8a6047e1",
   "metadata": {},
   "outputs": [
    {
     "name": "stdout",
     "output_type": "stream",
     "text": [
      "   Product_ID Product_Name  Sales  Profit Region\n",
      "0         101       Laptop   1200     200  North\n",
      "1         102   Smartphone    800     100  South\n",
      "2         103       Tablet   1500     250   East\n",
      "4         105       Camera    700      80  North\n",
      "7         108        Mouse    600      70  North\n",
      "9         110       Router    850     110  South\n"
     ]
    }
   ],
   "source": [
    "# Filter rows where Sales > 500\n",
    "high_sales = df[df['Sales'] > 500]\n",
    "print(high_sales)"
   ]
  },
  {
   "cell_type": "markdown",
   "id": "bcc24242",
   "metadata": {},
   "source": [
    "#### Explanation:\n",
    "- `df['Sales'] > 500`: Creates a boolean series where the condition is True for rows that meet the condition."
   ]
  },
  {
   "cell_type": "markdown",
   "id": "e4a6abe5",
   "metadata": {},
   "source": [
    "### Try it Yourself: Data Filtering using Comparison Operator\n",
    "- Filter rows where the sale is greater than 1000"
   ]
  },
  {
   "cell_type": "code",
   "execution_count": 61,
   "id": "694591cc",
   "metadata": {},
   "outputs": [],
   "source": [
    "#Write your answer here...\n"
   ]
  },
  {
   "cell_type": "markdown",
   "id": "03818796",
   "metadata": {},
   "source": [
    "### b) Data Filtering including a Logical Operator\n",
    "Use `&` (and), `|` (or) operators for combining conditions."
   ]
  },
  {
   "cell_type": "code",
   "execution_count": 62,
   "id": "46214d97",
   "metadata": {},
   "outputs": [
    {
     "name": "stdout",
     "output_type": "stream",
     "text": [
      "   Product_ID Product_Name  Sales  Profit Region\n",
      "0         101       Laptop   1200     200  North\n",
      "2         103       Tablet   1500     250   East\n",
      "9         110       Router    850     110  South\n"
     ]
    }
   ],
   "source": [
    "# Filter rows where both Sales > 500 and Profit > 100\n",
    "high_sales_profit = df[(df['Sales'] > 500) & (df['Profit'] > 100)]\n",
    "print(high_sales_profit)"
   ]
  },
  {
   "cell_type": "markdown",
   "id": "610f6c37",
   "metadata": {},
   "source": [
    "### Try it Yourself: Data Filtering including a Locial Operator\n",
    "- Filter rows where Sales > 1000 or profit <300"
   ]
  },
  {
   "cell_type": "code",
   "execution_count": 63,
   "id": "92984f07",
   "metadata": {},
   "outputs": [],
   "source": [
    "#Write your answer here...\n"
   ]
  },
  {
   "cell_type": "markdown",
   "id": "314251f8",
   "metadata": {},
   "source": [
    "## 7. Data Manipulation"
   ]
  },
  {
   "cell_type": "markdown",
   "id": "fed89025",
   "metadata": {},
   "source": [
    "### a) Adding New Columns\n",
    "You can easily add new columns to a DataFrame."
   ]
  },
  {
   "cell_type": "code",
   "execution_count": 64,
   "id": "466a588a",
   "metadata": {},
   "outputs": [
    {
     "name": "stdout",
     "output_type": "stream",
     "text": [
      "   Product_ID Product_Name  Sales  Profit Region  Cost\n",
      "0         101       Laptop   1200     200  North  1000\n",
      "1         102   Smartphone    800     100  South   700\n",
      "2         103       Tablet   1500     250   East  1250\n",
      "3         104   Headphones    300      50   West   250\n",
      "4         105       Camera    700      80  North   620\n",
      "5         106      Monitor    500      60  South   440\n",
      "6         107     Keyboard    400      40   West   360\n",
      "7         108        Mouse    600      70  North   530\n",
      "8         109      Charger    450      55   East   395\n",
      "9         110       Router    850     110  South   740\n"
     ]
    }
   ],
   "source": [
    "# Add a new column called 'Cost'\n",
    "df['Cost'] = df['Sales'] - df['Profit']\n",
    "print(df)"
   ]
  },
  {
   "cell_type": "markdown",
   "id": "2783da9d",
   "metadata": {},
   "source": [
    "### Try it Yourself: Adding New Columns\n",
    "- Add a new column called profit(%). \n",
    "- Formula = (Profit / Sales) * 100"
   ]
  },
  {
   "cell_type": "code",
   "execution_count": 65,
   "id": "5bacb156",
   "metadata": {},
   "outputs": [],
   "source": [
    "#Write your answer here...\n"
   ]
  },
  {
   "cell_type": "markdown",
   "id": "664d623b",
   "metadata": {},
   "source": [
    "### b) Modifying Existing Columns"
   ]
  },
  {
   "cell_type": "code",
   "execution_count": 66,
   "id": "d93576f2",
   "metadata": {},
   "outputs": [
    {
     "name": "stdout",
     "output_type": "stream",
     "text": [
      "   Product_ID Product_Name   Sales  Profit Region  Cost\n",
      "0         101       Laptop  1080.0     200  North  1000\n",
      "1         102   Smartphone   720.0     100  South   700\n",
      "2         103       Tablet  1350.0     250   East  1250\n",
      "3         104   Headphones   270.0      50   West   250\n",
      "4         105       Camera   630.0      80  North   620\n",
      "5         106      Monitor   450.0      60  South   440\n",
      "6         107     Keyboard   360.0      40   West   360\n",
      "7         108        Mouse   540.0      70  North   530\n",
      "8         109      Charger   405.0      55   East   395\n",
      "9         110       Router   765.0     110  South   740\n"
     ]
    }
   ],
   "source": [
    "# Modify the 'Sales' column by applying a 10% discount\n",
    "df['Sales'] = df['Sales'] * 0.9\n",
    "print(df)"
   ]
  },
  {
   "cell_type": "markdown",
   "id": "e9941510",
   "metadata": {},
   "source": [
    "### Try it Yourself: Modifying Existing Columns\n",
    "- Add 100 as an additional cost for each product. "
   ]
  },
  {
   "cell_type": "code",
   "execution_count": 67,
   "id": "51e4cb1a",
   "metadata": {},
   "outputs": [],
   "source": [
    "#Write your answer here... "
   ]
  },
  {
   "cell_type": "markdown",
   "id": "00551a6a",
   "metadata": {},
   "source": [
    "### c) Removing Columns\n",
    "\n",
    "To remove one or more columns in Pandas, you can use the `drop()` method. This method allows you to specify which columns to drop and whether to drop them from rows or columns.\n",
    "\n",
    "#### Syntax:\n",
    "```python\n",
    "df.drop(columns=['column_name1', 'column_name2'])\n"
   ]
  },
  {
   "cell_type": "code",
   "execution_count": 68,
   "id": "c1282a51",
   "metadata": {},
   "outputs": [
    {
     "name": "stdout",
     "output_type": "stream",
     "text": [
      "   Product_ID Product_Name   Sales  Profit Region\n",
      "0         101       Laptop  1080.0     200  North\n",
      "1         102   Smartphone   720.0     100  South\n",
      "2         103       Tablet  1350.0     250   East\n",
      "3         104   Headphones   270.0      50   West\n",
      "4         105       Camera   630.0      80  North\n"
     ]
    }
   ],
   "source": [
    "# Drop the 'Cost' column from the DataFrame\n",
    "df_without_cost = df.drop(columns=['Cost'])\n",
    "\n",
    "# Display the DataFrame without the 'Profit' column\n",
    "print(df_without_cost.head())\n"
   ]
  },
  {
   "cell_type": "markdown",
   "id": "950ed598",
   "metadata": {},
   "source": [
    "### Try it Yourself: Removing a Column\n",
    "- Remove the column Product_ID"
   ]
  },
  {
   "cell_type": "code",
   "execution_count": 69,
   "id": "8b751d16",
   "metadata": {},
   "outputs": [],
   "source": [
    "#Write your answer here... \n"
   ]
  },
  {
   "cell_type": "markdown",
   "id": "2384f095",
   "metadata": {},
   "source": [
    "### d) Renaming Columns in Pandas\n",
    "\n",
    "In Pandas, you can rename one or more columns using the `rename()` method. This is particularly useful for improving the readability of your DataFrame or aligning column names with specific naming conventions.\n",
    "\n",
    "#### Syntax:\n",
    "```python\n",
    "df.rename(columns={'old_column_name': 'new_column_name'})\n"
   ]
  },
  {
   "cell_type": "code",
   "execution_count": 70,
   "id": "bdea7576",
   "metadata": {},
   "outputs": [
    {
     "name": "stdout",
     "output_type": "stream",
     "text": [
      "   Product_ID Product_Name  Total_Sales  Profit Region  Cost\n",
      "0         101       Laptop       1080.0     200  North  1000\n",
      "1         102   Smartphone        720.0     100  South   700\n",
      "2         103       Tablet       1350.0     250   East  1250\n",
      "3         104   Headphones        270.0      50   West   250\n",
      "4         105       Camera        630.0      80  North   620\n"
     ]
    }
   ],
   "source": [
    "# Rename the 'Sales' column to 'Total_Sales'\n",
    "df_renamed = df.rename(columns={'Sales': 'Total_Sales'})\n",
    "\n",
    "# Display the updated DataFrame\n",
    "print(df_renamed.head())\n"
   ]
  },
  {
   "cell_type": "markdown",
   "id": "ecc63485",
   "metadata": {},
   "source": [
    "### e) Renaming Multiple Columns\n",
    "You can rename multiple columns at once by passing a dictionary of old and new column names."
   ]
  },
  {
   "cell_type": "code",
   "execution_count": 71,
   "id": "83ede307",
   "metadata": {},
   "outputs": [
    {
     "name": "stdout",
     "output_type": "stream",
     "text": [
      "   Product_ID Product_Name  Total_Sales  Net_Profit Region  Cost\n",
      "0         101       Laptop       1080.0         200  North  1000\n",
      "1         102   Smartphone        720.0         100  South   700\n",
      "2         103       Tablet       1350.0         250   East  1250\n",
      "3         104   Headphones        270.0          50   West   250\n",
      "4         105       Camera        630.0          80  North   620\n"
     ]
    }
   ],
   "source": [
    "# Rename multiple columns\n",
    "df_renamed_multiple = df.rename(columns={'Sales': 'Total_Sales', 'Profit': 'Net_Profit'})\n",
    "\n",
    "# Display the updated DataFrame\n",
    "print(df_renamed_multiple.head())\n"
   ]
  },
  {
   "cell_type": "markdown",
   "id": "7ba0b925",
   "metadata": {},
   "source": [
    "### Try it Yourself: Renaming the Column\n",
    "- Rename the column Net_Profit to Profit"
   ]
  },
  {
   "cell_type": "code",
   "execution_count": 72,
   "id": "0b2df0d9",
   "metadata": {},
   "outputs": [],
   "source": [
    "#Write your answer here...\n"
   ]
  },
  {
   "cell_type": "markdown",
   "id": "773efbc7",
   "metadata": {},
   "source": [
    "## 8. Grouping and Aggregating Data\n",
    "\n",
    "Pandas allows you to group data based on certain criteria and then apply aggregation functions (like `sum()`, `mean()`, or `count()`) to summarise the data. This is extremely useful when working with large datasets and when you want to perform group-level operations."
   ]
  },
  {
   "cell_type": "markdown",
   "id": "49a94f90",
   "metadata": {},
   "source": [
    "### Common Aggregation Functions\n",
    "There are some common aggregation functions that can be applied to grouped data:\n",
    "\n",
    "- `sum()`: Calculate the total sum of the values.\n",
    "- `mean()`: Calculate the mean (average) of the values.\n",
    "- `count()`: Count the number of non-null observations.\n",
    "- `min()` and `max()`: Find the minimum and maximum values."
   ]
  },
  {
   "cell_type": "markdown",
   "id": "8d23eed9",
   "metadata": {},
   "source": [
    "### a) Grouping Data\n",
    "\n",
    "You can group data based on one or more columns using the `groupby()` function. This is often followed by an aggregation operation."
   ]
  },
  {
   "cell_type": "code",
   "execution_count": 73,
   "id": "81265309",
   "metadata": {},
   "outputs": [
    {
     "name": "stdout",
     "output_type": "stream",
     "text": [
      "Region\n",
      "East     1755.0\n",
      "North    2250.0\n",
      "South    1935.0\n",
      "West      630.0\n",
      "Name: Sales, dtype: float64\n"
     ]
    }
   ],
   "source": [
    "# Group data by 'Region' and calculate total sales for each region\n",
    "region_sales = df.groupby('Region')['Sales'].sum()\n",
    "\n",
    "print(region_sales)\n"
   ]
  },
  {
   "cell_type": "markdown",
   "id": "c9ee4cf4",
   "metadata": {},
   "source": [
    "#### Explanation:\n",
    "- `df.groupby('Region')`: Groups the data by the 'Region' column.\n",
    "- `['Sales'].sum()`: Calculates the sum of the 'Sales' column for each group (region)."
   ]
  },
  {
   "cell_type": "markdown",
   "id": "739debc2",
   "metadata": {},
   "source": [
    "### Try it Yourself: Grouping Data\n",
    "- Group the data by 'Region' and calculate the profit for each region"
   ]
  },
  {
   "cell_type": "code",
   "execution_count": 74,
   "id": "8012b6a3",
   "metadata": {},
   "outputs": [],
   "source": [
    "#Write your answer here..."
   ]
  },
  {
   "cell_type": "markdown",
   "id": "7da46bf9",
   "metadata": {},
   "source": [
    "### b) Grouping by Multiple Columns\n",
    "You can also group by multiple columns to perform more complex grouping operations."
   ]
  },
  {
   "cell_type": "code",
   "execution_count": 75,
   "id": "d76470b5",
   "metadata": {},
   "outputs": [
    {
     "name": "stdout",
     "output_type": "stream",
     "text": [
      "Region  Product_Name\n",
      "East    Charger          405.0\n",
      "        Tablet          1350.0\n",
      "North   Camera           630.0\n",
      "        Laptop          1080.0\n",
      "        Mouse            540.0\n",
      "South   Monitor          450.0\n",
      "        Router           765.0\n",
      "        Smartphone       720.0\n",
      "West    Headphones       270.0\n",
      "        Keyboard         360.0\n",
      "Name: Sales, dtype: float64\n"
     ]
    }
   ],
   "source": [
    "# Group by 'Region' and 'Product_Name' and calculate the sum of sales\n",
    "region_product_sales = df.groupby(['Region', 'Product_Name'])['Sales'].sum()\n",
    "print(region_product_sales)"
   ]
  },
  {
   "cell_type": "markdown",
   "id": "7d46b200",
   "metadata": {},
   "source": [
    "#### Explanation:\n",
    "- `df.groupby(['Region', 'Product_Name'])`: Groups the data first by 'Region' and then by 'Product_Name'.\n",
    "- `['Sales'].sum()`: Calculates the total sales for each combination of region and product."
   ]
  },
  {
   "cell_type": "markdown",
   "id": "8ea7a9e6",
   "metadata": {},
   "source": [
    "### Try it Yourself: Grouping by Multiple Columns\n",
    "- Group the data by 'Region' and 'Product Name' and calculate the profit for each region"
   ]
  },
  {
   "cell_type": "code",
   "execution_count": 76,
   "id": "7f53896b",
   "metadata": {},
   "outputs": [],
   "source": [
    "#Write your answer here... \n"
   ]
  },
  {
   "cell_type": "code",
   "execution_count": 77,
   "id": "943bc0e4",
   "metadata": {},
   "outputs": [
    {
     "name": "stdout",
     "output_type": "stream",
     "text": [
      "           sum   mean  count\n",
      "Region                      \n",
      "East    1755.0  877.5      2\n",
      "North   2250.0  750.0      3\n",
      "South   1935.0  645.0      3\n",
      "West     630.0  315.0      2\n"
     ]
    }
   ],
   "source": [
    "# Group by 'Region' and apply multiple aggregation functions to the 'Sales' column\n",
    "aggregated_sales = df.groupby('Region')['Sales'].agg(['sum', 'mean', 'count'])\n",
    "print(aggregated_sales)"
   ]
  },
  {
   "cell_type": "markdown",
   "id": "84d0a01d",
   "metadata": {},
   "source": [
    "#### Explanation:\n",
    "- `agg(['sum', 'mean', 'count'])`: Applies multiple aggregation functions (sum, mean, and count) to the grouped data.\n",
    "- This generates a summary of total sales, average sales, and the number of entries for each region."
   ]
  },
  {
   "cell_type": "markdown",
   "id": "587818b7",
   "metadata": {},
   "source": [
    "### Try it Yourself: Common Aggregation Functions\n",
    "- Group by 'Region' and apply multiple aggregation functions the 'Profit' Column"
   ]
  },
  {
   "cell_type": "code",
   "execution_count": 78,
   "id": "00dde5ec",
   "metadata": {},
   "outputs": [],
   "source": [
    "#Write your answer here... "
   ]
  },
  {
   "cell_type": "markdown",
   "id": "001ecf4e",
   "metadata": {},
   "source": [
    "## 9) Writing the File\n",
    "Once your DataFrame is ready, you can write it to a CSV file using the to_csv() function. Here’s how:\n",
    "\n",
    "#### Syntax \n",
    "\n",
    "```python\n",
    "df.to_csv('filepath/filename.csv', index=False)\n"
   ]
  },
  {
   "cell_type": "code",
   "execution_count": 79,
   "id": "5191b723",
   "metadata": {},
   "outputs": [],
   "source": [
    "# Write DataFrame to a CSV file\n",
    "df.to_csv('C:/Users/Admin/Desktop/Datapre8/Code Institute/Module  - Getting Started with Python Programming/my_data.csv', index=False)\n"
   ]
  },
  {
   "cell_type": "markdown",
   "id": "51024bc9",
   "metadata": {},
   "source": [
    "#### Explanation: \n",
    "- The index=False argument is optional, but it prevents the DataFrame index from being written into the CSV file."
   ]
  },
  {
   "cell_type": "markdown",
   "id": "8ef56577",
   "metadata": {},
   "source": [
    "# What's Next? "
   ]
  },
  {
   "cell_type": "markdown",
   "id": "e2857c2e",
   "metadata": {},
   "source": [
    "Next, we’ll dive into data visualization in Python, where you’ll learn to create clear and insightful visuals using libraries like Seaborn. Let’s explore how to bring data to life!"
   ]
  }
 ],
 "metadata": {
  "kernelspec": {
   "display_name": "Python 3 (ipykernel)",
   "language": "python",
   "name": "python3"
  },
  "language_info": {
   "codemirror_mode": {
    "name": "ipython",
    "version": 3
   },
   "file_extension": ".py",
   "mimetype": "text/x-python",
   "name": "python",
   "nbconvert_exporter": "python",
   "pygments_lexer": "ipython3",
   "version": "3.12.7"
  }
 },
 "nbformat": 4,
 "nbformat_minor": 5
}
